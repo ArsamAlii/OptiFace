{
 "cells": [
  {
   "cell_type": "code",
   "execution_count": 3,
   "id": "aee3d5a0",
   "metadata": {},
   "outputs": [],
   "source": [
    "import os\n",
    "import numpy as np\n",
    "from sklearn.model_selection import train_test_split\n",
    "from sklearn.metrics import accuracy_score\n",
    "import tensorflow as tf\n",
    "from tensorflow.keras.models import Sequential\n",
    "from tensorflow.keras.layers import Conv2D, MaxPooling2D, Flatten, Dense, Dropout\n",
    "from tensorflow.keras.preprocessing.image import load_img, img_to_array\n",
    "from tqdm import tqdm\n",
    "\n",
    "dataset_path = r\"D:\\DESKTOP\\AI proj\\gender_dataset_2\"\n"
   ]
  },
  {
   "cell_type": "code",
   "execution_count": 4,
   "id": "8ae85e8f",
   "metadata": {},
   "outputs": [
    {
     "name": "stdout",
     "output_type": "stream",
     "text": [
      "{'female': 0, 'male': 1}\n"
     ]
    }
   ],
   "source": [
    "images = []\n",
    "labels = []\n",
    "\n",
    "class_names = sorted(os.listdir(dataset_path))\n",
    "label_map = {name: idx for idx, name in enumerate(class_names)}\n",
    "\n",
    "print(label_map)"
   ]
  },
  {
   "cell_type": "code",
   "execution_count": 5,
   "id": "508a1735",
   "metadata": {},
   "outputs": [
    {
     "name": "stderr",
     "output_type": "stream",
     "text": [
      "Loading female: 100%|██████████| 11426/11426 [00:39<00:00, 292.27it/s]\n",
      "Loading male: 100%|██████████| 12500/12500 [00:48<00:00, 256.00it/s]\n"
     ]
    }
   ],
   "source": [
    "for label_name in class_names:\n",
    "    folder_path = os.path.join(dataset_path, label_name)\n",
    "    if not os.path.isdir(folder_path):\n",
    "        continue\n",
    "    for filename in tqdm(os.listdir(folder_path), desc=f\"Loading {label_name}\"):\n",
    "        img_path = os.path.join(folder_path, filename)\n",
    "        try:\n",
    "            img = load_img(img_path, target_size=(128, 128))\n",
    "            img_array = img_to_array(img) / 255.0  # normalize\n",
    "            images.append(img_array)\n",
    "            labels.append(label_map[label_name])\n",
    "        except Exception as e:\n",
    "            print(f\"Skipped {img_path}: {e}\")\n",
    "\n",
    "X = np.array(images)\n",
    "y = np.array(labels)"
   ]
  },
  {
   "cell_type": "code",
   "execution_count": 6,
   "id": "f0be25fb",
   "metadata": {},
   "outputs": [],
   "source": [
    "X_train, X_test, y_train, y_test = train_test_split(X, y, test_size = 0.3, stratify=y, random_state=0)"
   ]
  },
  {
   "cell_type": "code",
   "execution_count": 7,
   "id": "6475b347",
   "metadata": {},
   "outputs": [],
   "source": [
    "from keras.layers import Input"
   ]
  },
  {
   "cell_type": "code",
   "execution_count": 8,
   "id": "291241ad",
   "metadata": {},
   "outputs": [],
   "source": [
    "model = Sequential([\n",
    "    Input(shape=(128, 128, 3)),\n",
    "    Conv2D(32, (3, 3), activation='relu'),\n",
    "    MaxPooling2D(2, 2),\n",
    "    Conv2D(64, (3, 3), activation='relu'),\n",
    "    MaxPooling2D(2, 2),\n",
    "    Flatten(),\n",
    "    Dense(128, activation='relu'),\n",
    "    Dropout(0.5),\n",
    "    Dense(1, activation='sigmoid')  # Binary classification\n",
    "])\n",
    "\n",
    "model.compile(optimizer='adam', loss='binary_crossentropy', metrics=['accuracy'])\n"
   ]
  },
  {
   "cell_type": "code",
   "execution_count": 9,
   "id": "799c84fb",
   "metadata": {},
   "outputs": [
    {
     "name": "stdout",
     "output_type": "stream",
     "text": [
      "Epoch 1/10\n",
      "524/524 [==============================] - 477s 891ms/step - loss: 0.4309 - accuracy: 0.7988 - val_loss: 0.3331 - val_accuracy: 0.8533\n",
      "Epoch 2/10\n",
      "524/524 [==============================] - 272s 518ms/step - loss: 0.3056 - accuracy: 0.8614 - val_loss: 0.3074 - val_accuracy: 0.8640\n",
      "Epoch 3/10\n",
      "524/524 [==============================] - 245s 468ms/step - loss: 0.2640 - accuracy: 0.8862 - val_loss: 0.2924 - val_accuracy: 0.8823\n",
      "Epoch 4/10\n",
      "524/524 [==============================] - 199s 380ms/step - loss: 0.2310 - accuracy: 0.9024 - val_loss: 0.2715 - val_accuracy: 0.8846\n",
      "Epoch 5/10\n",
      "524/524 [==============================] - 183s 350ms/step - loss: 0.2000 - accuracy: 0.9151 - val_loss: 0.2863 - val_accuracy: 0.8859\n",
      "Epoch 6/10\n",
      "524/524 [==============================] - 222s 424ms/step - loss: 0.1769 - accuracy: 0.9270 - val_loss: 0.2948 - val_accuracy: 0.8913\n",
      "Epoch 7/10\n",
      "524/524 [==============================] - 236s 450ms/step - loss: 0.1513 - accuracy: 0.9387 - val_loss: 0.3063 - val_accuracy: 0.8842\n",
      "Epoch 8/10\n",
      "524/524 [==============================] - 251s 479ms/step - loss: 0.1283 - accuracy: 0.9485 - val_loss: 0.3414 - val_accuracy: 0.8920\n",
      "Epoch 9/10\n",
      "524/524 [==============================] - 241s 461ms/step - loss: 0.1119 - accuracy: 0.9559 - val_loss: 0.3739 - val_accuracy: 0.8880\n",
      "Epoch 10/10\n",
      "524/524 [==============================] - 234s 447ms/step - loss: 0.1007 - accuracy: 0.9619 - val_loss: 0.3360 - val_accuracy: 0.8862\n"
     ]
    }
   ],
   "source": [
    "training = model.fit(X_train, y_train, validation_data=(X_test, y_test), epochs=10)"
   ]
  },
  {
   "cell_type": "code",
   "execution_count": 12,
   "id": "3e9d7373",
   "metadata": {},
   "outputs": [
    {
     "name": "stderr",
     "output_type": "stream",
     "text": [
      "c:\\miniconda\\envs\\myenv\\lib\\site-packages\\keras\\src\\engine\\training.py:3000: UserWarning: You are saving your model as an HDF5 file via `model.save()`. This file format is considered legacy. We recommend using instead the native Keras format, e.g. `model.save('my_model.keras')`.\n",
      "  saving_api.save_model(\n"
     ]
    }
   ],
   "source": [
    "model_save_path = r\"D:\\DESKTOP\\AI proj\\project\\models\\gender_cnn_model.h5\"\n",
    "model.save(model_save_path)"
   ]
  },
  {
   "cell_type": "code",
   "execution_count": 11,
   "id": "812f8b46",
   "metadata": {},
   "outputs": [
    {
     "name": "stdout",
     "output_type": "stream",
     "text": [
      "225/225 [==============================] - 34s 149ms/step\n",
      "Accuracy (y, y_predicted): 0.8861799944274171\n"
     ]
    }
   ],
   "source": [
    "y_pred_prob = model.predict(X_test)\n",
    "y_pred = (y_pred_prob > 0.5).astype(int).flatten()\n",
    "accuracy = accuracy_score(y_test, y_pred)\n",
    "print(\"Accuracy (y, y_predicted):\", accuracy)"
   ]
  }
 ],
 "metadata": {
  "kernelspec": {
   "display_name": "venv",
   "language": "python",
   "name": "python3"
  },
  "language_info": {
   "codemirror_mode": {
    "name": "ipython",
    "version": 3
   },
   "file_extension": ".py",
   "mimetype": "text/x-python",
   "name": "python",
   "nbconvert_exporter": "python",
   "pygments_lexer": "ipython3",
   "version": "3.8.20"
  }
 },
 "nbformat": 4,
 "nbformat_minor": 5
}
