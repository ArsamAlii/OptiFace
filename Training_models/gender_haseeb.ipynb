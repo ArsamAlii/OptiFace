{
 "cells": [
  {
   "cell_type": "code",
   "execution_count": 1,
   "id": "72eb272a",
   "metadata": {},
   "outputs": [],
   "source": [
    "import tensorflow as tf\n",
    "from tensorflow import keras\n",
    "from tensorflow.keras.preprocessing.image import ImageDataGenerator\n",
    "from tensorflow.keras import layers, models\n",
    "import numpy as np\n",
    "from tensorflow.keras.preprocessing import image\n",
    "import os"
   ]
  },
  {
   "cell_type": "code",
   "execution_count": 2,
   "id": "c3ea08d8",
   "metadata": {},
   "outputs": [
    {
     "name": "stdout",
     "output_type": "stream",
     "text": [
      "Found 16814 images belonging to 2 classes.\n",
      "Found 7194 images belonging to 2 classes.\n",
      "Training class indices: {'female': 0, 'male': 1}\n",
      "Training class counts: 8783 total images\n",
      "Training class distribution: [8031 8783]\n",
      "Validation class distribution: [3436 3758]\n",
      "Epoch 1/10\n",
      "1051/1051 [==============================] - 283s 267ms/step - loss: 0.4074 - accuracy: 0.8122 - val_loss: 0.3146 - val_accuracy: 0.8635\n",
      "Epoch 2/10\n",
      "1051/1051 [==============================] - 281s 268ms/step - loss: 0.2925 - accuracy: 0.8700 - val_loss: 0.2972 - val_accuracy: 0.8681\n",
      "Epoch 3/10\n",
      "1051/1051 [==============================] - 279s 265ms/step - loss: 0.2495 - accuracy: 0.8943 - val_loss: 0.2615 - val_accuracy: 0.8880\n",
      "Epoch 4/10\n",
      "1051/1051 [==============================] - 280s 266ms/step - loss: 0.2159 - accuracy: 0.9089 - val_loss: 0.2595 - val_accuracy: 0.8898\n",
      "Epoch 5/10\n",
      "1051/1051 [==============================] - 285s 271ms/step - loss: 0.1803 - accuracy: 0.9254 - val_loss: 0.2912 - val_accuracy: 0.8800\n",
      "Epoch 6/10\n",
      "1051/1051 [==============================] - 274s 261ms/step - loss: 0.1465 - accuracy: 0.9405 - val_loss: 0.2874 - val_accuracy: 0.8867\n",
      "Epoch 7/10\n",
      "1051/1051 [==============================] - 280s 266ms/step - loss: 0.1154 - accuracy: 0.9558 - val_loss: 0.3017 - val_accuracy: 0.8923\n",
      "Epoch 8/10\n",
      "1051/1051 [==============================] - 213s 203ms/step - loss: 0.0807 - accuracy: 0.9694 - val_loss: 0.4728 - val_accuracy: 0.8718\n",
      "Epoch 9/10\n",
      "1051/1051 [==============================] - 165s 157ms/step - loss: 0.0594 - accuracy: 0.9795 - val_loss: 0.4800 - val_accuracy: 0.8818\n",
      "Epoch 10/10\n",
      "1051/1051 [==============================] - 252s 240ms/step - loss: 0.0503 - accuracy: 0.9828 - val_loss: 0.4985 - val_accuracy: 0.8773\n"
     ]
    },
    {
     "ename": "InvalidArgumentError",
     "evalue": "Failed to create a directory: D:\\DESKTOP/AI proj\finalgender_savedmodel5; Invalid argument",
     "output_type": "error",
     "traceback": [
      "\u001b[1;31m---------------------------------------------------------------------------\u001b[0m",
      "\u001b[1;31mInvalidArgumentError\u001b[0m                      Traceback (most recent call last)",
      "Cell \u001b[1;32mIn[2], line 79\u001b[0m\n\u001b[0;32m     77\u001b[0m \u001b[38;5;66;03m# 7. Save the trained model to Drive\u001b[39;00m\n\u001b[0;32m     78\u001b[0m model_save_path \u001b[38;5;241m=\u001b[39m \u001b[38;5;124m'\u001b[39m\u001b[38;5;124mD:\u001b[39m\u001b[38;5;124m\\\u001b[39m\u001b[38;5;124mDESKTOP\u001b[39m\u001b[38;5;124m\\\u001b[39m\u001b[38;5;124mAI proj\u001b[39m\u001b[38;5;130;01m\\f\u001b[39;00m\u001b[38;5;124minalgender_savedmodel5\u001b[39m\u001b[38;5;124m'\u001b[39m\n\u001b[1;32m---> 79\u001b[0m \u001b[43mmodel\u001b[49m\u001b[38;5;241;43m.\u001b[39;49m\u001b[43msave\u001b[49m\u001b[43m(\u001b[49m\u001b[43mmodel_save_path\u001b[49m\u001b[43m)\u001b[49m\n",
      "File \u001b[1;32mc:\\miniconda\\envs\\myenv\\lib\\site-packages\\keras\\src\\utils\\traceback_utils.py:70\u001b[0m, in \u001b[0;36mfilter_traceback.<locals>.error_handler\u001b[1;34m(*args, **kwargs)\u001b[0m\n\u001b[0;32m     67\u001b[0m     filtered_tb \u001b[38;5;241m=\u001b[39m _process_traceback_frames(e\u001b[38;5;241m.\u001b[39m__traceback__)\n\u001b[0;32m     68\u001b[0m     \u001b[38;5;66;03m# To get the full stack trace, call:\u001b[39;00m\n\u001b[0;32m     69\u001b[0m     \u001b[38;5;66;03m# `tf.debugging.disable_traceback_filtering()`\u001b[39;00m\n\u001b[1;32m---> 70\u001b[0m     \u001b[38;5;28;01mraise\u001b[39;00m e\u001b[38;5;241m.\u001b[39mwith_traceback(filtered_tb) \u001b[38;5;28;01mfrom\u001b[39;00m \u001b[38;5;28;01mNone\u001b[39;00m\n\u001b[0;32m     71\u001b[0m \u001b[38;5;28;01mfinally\u001b[39;00m:\n\u001b[0;32m     72\u001b[0m     \u001b[38;5;28;01mdel\u001b[39;00m filtered_tb\n",
      "File \u001b[1;32mc:\\miniconda\\envs\\myenv\\lib\\site-packages\\tensorflow\\python\\lib\\io\\file_io.py:513\u001b[0m, in \u001b[0;36mrecursive_create_dir_v2\u001b[1;34m(path)\u001b[0m\n\u001b[0;32m    501\u001b[0m \u001b[38;5;129m@tf_export\u001b[39m(\u001b[38;5;124m\"\u001b[39m\u001b[38;5;124mio.gfile.makedirs\u001b[39m\u001b[38;5;124m\"\u001b[39m)\n\u001b[0;32m    502\u001b[0m \u001b[38;5;28;01mdef\u001b[39;00m \u001b[38;5;21mrecursive_create_dir_v2\u001b[39m(path):\n\u001b[0;32m    503\u001b[0m \u001b[38;5;250m  \u001b[39m\u001b[38;5;124;03m\"\"\"Creates a directory and all parent/intermediate directories.\u001b[39;00m\n\u001b[0;32m    504\u001b[0m \n\u001b[0;32m    505\u001b[0m \u001b[38;5;124;03m  It succeeds if path already exists and is writable.\u001b[39;00m\n\u001b[1;32m   (...)\u001b[0m\n\u001b[0;32m    511\u001b[0m \u001b[38;5;124;03m    errors.OpError: If the operation fails.\u001b[39;00m\n\u001b[0;32m    512\u001b[0m \u001b[38;5;124;03m  \"\"\"\u001b[39;00m\n\u001b[1;32m--> 513\u001b[0m   \u001b[43m_pywrap_file_io\u001b[49m\u001b[38;5;241;43m.\u001b[39;49m\u001b[43mRecursivelyCreateDir\u001b[49m\u001b[43m(\u001b[49m\u001b[43mcompat\u001b[49m\u001b[38;5;241;43m.\u001b[39;49m\u001b[43mpath_to_bytes\u001b[49m\u001b[43m(\u001b[49m\u001b[43mpath\u001b[49m\u001b[43m)\u001b[49m\u001b[43m)\u001b[49m\n",
      "\u001b[1;31mInvalidArgumentError\u001b[0m: Failed to create a directory: D:\\DESKTOP/AI proj\finalgender_savedmodel5; Invalid argument"
     ]
    }
   ],
   "source": [
    "# 1. Mount Google Drive\n",
    "# from google.colab import drive\n",
    "# drive.mount('/content/drive')\n",
    "\n",
    "# 2. Unzip your dataset\n",
    "import zipfile\n",
    "zip_path = r\"D:\\DESKTOP\\AI proj\\gender_dataset.zip\"  # path to your uploaded zip\n",
    "extract_path = r\"D:\\DESKTOP\\AI proj\\gender_dataset\"  # where to extract\n",
    "\n",
    "with zipfile.ZipFile(zip_path, 'r') as zip_ref:\n",
    "    zip_ref.extractall(extract_path)\n",
    "\n",
    "# 3. Import Libraries\n",
    "# import tensorflow as tf\n",
    "# from tensorflow import keras\n",
    "# from tensorflow.keras.preprocessing.image import ImageDataGenerator\n",
    "# from tensorflow.keras import layers, models\n",
    "# import numpy as np\n",
    "# from tensorflow.keras.preprocessing import image\n",
    "# import os\n",
    "\n",
    "\n",
    "# 4. Prepare the data generators\n",
    "train_dir = r\"D:\\DESKTOP\\AI proj\\gender_dataset\\train\"\n",
    "val_dir = r\"D:\\DESKTOP\\AI proj\\gender_dataset\\test\"\n",
    "\n",
    "train_datagen = ImageDataGenerator(rescale=1./255)\n",
    "val_datagen = ImageDataGenerator(rescale=1./255)\n",
    "\n",
    "train_generator = train_datagen.flow_from_directory(\n",
    "    train_dir,\n",
    "    target_size=(100, 100),\n",
    "    batch_size=16,\n",
    "    class_mode='binary'\n",
    ")\n",
    "\n",
    "validation_generator = val_datagen.flow_from_directory(\n",
    "    val_dir,\n",
    "    target_size=(100, 100),\n",
    "    batch_size=16,\n",
    "    class_mode='binary'\n",
    ")\n",
    "\n",
    "# ------------------------------------------------------------ #\n",
    "# Check class distribution in Training and Validation sets\n",
    "print(\"Training class indices:\", train_generator.class_indices)\n",
    "print(\"Training class counts:\", train_generator.classes.sum(), \"total images\")\n",
    "print(\"Training class distribution:\", np.bincount(train_generator.classes))\n",
    "\n",
    "print(\"Validation class distribution:\", np.bincount(validation_generator.classes))\n",
    "\n",
    "\n",
    "# 5. Build the CNN model\n",
    "model = models.Sequential([\n",
    "    layers.Conv2D(32, (3, 3), activation='relu', input_shape=(100, 100, 3)),\n",
    "    layers.MaxPooling2D(2, 2),\n",
    "\n",
    "    layers.Conv2D(64, (3, 3), activation='relu'),\n",
    "    layers.MaxPooling2D(2, 2),\n",
    "\n",
    "    layers.Flatten(),\n",
    "    layers.Dense(128, activation='relu'),\n",
    "    layers.Dense(1, activation='sigmoid')  # 1 neuron for binary output\n",
    "])\n",
    "\n",
    "model.compile(optimizer='adam',\n",
    "              loss='binary_crossentropy',\n",
    "              metrics=['accuracy'])\n",
    "\n",
    "# 6. Train the model\n",
    "history = model.fit(\n",
    "    train_generator,\n",
    "    epochs=10,  # Start with 3 epochs (can increase later)\n",
    "    validation_data=validation_generator\n",
    ")\n",
    "\n",
    "# 7. Save the trained model to Drive\n",
    "model_save_path = 'D:\\DESKTOP\\AI proj\\finalgender_savedmodel5'\n",
    "model.save(model_save_path)\n",
    "\n"
   ]
  },
  {
   "cell_type": "code",
   "execution_count": 1,
   "id": "8fb524ef",
   "metadata": {},
   "outputs": [
    {
     "ename": "NameError",
     "evalue": "name 'model' is not defined",
     "output_type": "error",
     "traceback": [
      "\u001b[1;31m---------------------------------------------------------------------------\u001b[0m",
      "\u001b[1;31mNameError\u001b[0m                                 Traceback (most recent call last)",
      "Cell \u001b[1;32mIn[1], line 3\u001b[0m\n\u001b[0;32m      1\u001b[0m \u001b[38;5;66;03m# 7. Save the trained model to Drive\u001b[39;00m\n\u001b[0;32m      2\u001b[0m model_save_path \u001b[38;5;241m=\u001b[39m \u001b[38;5;124mr\u001b[39m\u001b[38;5;124m'\u001b[39m\u001b[38;5;124mD:\u001b[39m\u001b[38;5;124m\\\u001b[39m\u001b[38;5;124mDESKTOP\u001b[39m\u001b[38;5;124m\\\u001b[39m\u001b[38;5;124mAI proj\u001b[39m\u001b[38;5;124m\\\u001b[39m\u001b[38;5;124mfinalgender_savedmodel5\u001b[39m\u001b[38;5;124m'\u001b[39m\n\u001b[1;32m----> 3\u001b[0m \u001b[43mmodel\u001b[49m\u001b[38;5;241m.\u001b[39msave(model_save_path)\n",
      "\u001b[1;31mNameError\u001b[0m: name 'model' is not defined"
     ]
    }
   ],
   "source": [
    "# 7. Save the trained model to Drive\n",
    "model_save_path = r'D:\\DESKTOP\\AI proj\\finalgender_savedmodel5'\n",
    "model.save(model_save_path)"
   ]
  },
  {
   "cell_type": "code",
   "execution_count": null,
   "id": "bf245c5b",
   "metadata": {},
   "outputs": [],
   "source": [
    "# 8. Predict gender function\n",
    "def predict_gender(img_path):\n",
    "    img = image.load_img(img_path, target_size=(100, 100))\n",
    "    img_array = image.img_to_array(img)\n",
    "    img_array = np.expand_dims(img_array, axis=0)\n",
    "    img_array /= 255.0\n",
    "\n",
    "    prediction = model.predict(img_array)\n",
    "    if prediction[0][0] > 0.5:\n",
    "        return \"Male\"\n",
    "    else:\n",
    "        return \"Female\"\n",
    "\n",
    "# Example usage:\n",
    "gender = predict_gender('/content/gender_data/Validation/female/xyz.jpg')\n",
    "print(\"Predicted gender:\", gender)\n"
   ]
  }
 ],
 "metadata": {
  "kernelspec": {
   "display_name": "myenv",
   "language": "python",
   "name": "python3"
  },
  "language_info": {
   "codemirror_mode": {
    "name": "ipython",
    "version": 3
   },
   "file_extension": ".py",
   "mimetype": "text/x-python",
   "name": "python",
   "nbconvert_exporter": "python",
   "pygments_lexer": "ipython3",
   "version": "3.8.20"
  }
 },
 "nbformat": 4,
 "nbformat_minor": 5
}
