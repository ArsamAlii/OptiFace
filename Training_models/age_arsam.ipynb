{
 "cells": [
  {
   "cell_type": "code",
   "execution_count": 84,
   "metadata": {},
   "outputs": [],
   "source": [
    "import os\n",
    "import pandas as pd\n",
    "import numpy as np\n",
    "import tensorflow as tf\n",
    "\n",
    "from sklearn.model_selection import train_test_split\n",
    "from tensorflow.keras import layers, models\n",
    "from tensorflow.keras.callbacks import ModelCheckpoint, EarlyStopping\n",
    "import matplotlib.pyplot as plt\n",
    "\n",
    "from tensorflow.keras.preprocessing.image import ImageDataGenerator\n"
   ]
  },
  {
   "cell_type": "code",
   "execution_count": 85,
   "metadata": {},
   "outputs": [],
   "source": [
    "DATA_DIR =r\"D:\\DESKTOP\\AI proj\\datasetage\\Test\\Test\"\n",
    "ANNOT_FILE =r\"D:\\DESKTOP\\AI proj\\datasetage\\Train\\Train\""
   ]
  },
  {
   "cell_type": "code",
   "execution_count": 86,
   "metadata": {},
   "outputs": [
    {
     "name": "stdout",
     "output_type": "stream",
     "text": [
      "    Class         ID\n",
      "0  MIDDLE  25321.jpg\n",
      "1   YOUNG    989.jpg\n",
      "2  MIDDLE  19277.jpg\n",
      "3  MIDDLE  13093.jpg\n",
      "4  MIDDLE   5367.jpg\n",
      "count       6636\n",
      "unique         3\n",
      "top       MIDDLE\n",
      "freq        3834\n",
      "Name: Class, dtype: object\n"
     ]
    }
   ],
   "source": [
    "df=pd.read_csv(r\"D:\\DESKTOP\\AI proj\\datasetage\\sub.csv\")\n",
    "print(df.head())\n",
    "print(df[\"Class\"].describe())\n"
   ]
  },
  {
   "cell_type": "code",
   "execution_count": 87,
   "metadata": {},
   "outputs": [
    {
     "name": "stdout",
     "output_type": "stream",
     "text": [
      "MIDDLE    3834\n",
      "YOUNG     2138\n",
      "OLD        664\n",
      "Name: Class, dtype: int64 \n",
      "\n",
      "1    3834\n",
      "0    2138\n",
      "2     664\n",
      "Name: label, dtype: int64\n"
     ]
    }
   ],
   "source": [
    "df = pd.read_csv(r\"D:\\DESKTOP\\AI proj\\datasetage\\sub.csv\")\n",
    "df.head(5)\n",
    "\n",
    "# Define your label mapping\n",
    "class_map = {\"YOUNG\": 0,\"MIDDLE\":1,\"OLD\": 2}\n",
    "\n",
    "# Create a new numeric column\n",
    "df[\"label\"]=df[\"Class\"].map(class_map)\n",
    "\n",
    "# Quick sanity check\n",
    "print(df[\"Class\"].value_counts(), \"\\n\")\n",
    "print(df[\"label\"].value_counts())\n"
   ]
  },
  {
   "cell_type": "code",
   "execution_count": 88,
   "metadata": {},
   "outputs": [],
   "source": [
    "# Build absolute paths to each image->\n",
    "df[\"file_path\"]=df[\"ID\"].apply(lambda fn:os.path.join(DATA_DIR,fn))\n",
    "\n",
    "#print(df[\"file_path\"])\n",
    "#print(df.columns)\n",
    "# Extract numpy arrays\n",
    "file_paths=df[\"file_path\"].values\n",
    "labels=df[\"label\"].values\n"
   ]
  },
  {
   "cell_type": "code",
   "execution_count": 89,
   "metadata": {},
   "outputs": [],
   "source": [
    "train_paths, val_paths, train_labels, val_labels = train_test_split(file_paths,labels,test_size=0.20,stratify=labels,random_state=0)"
   ]
  },
  {
   "cell_type": "code",
   "execution_count": 90,
   "metadata": {},
   "outputs": [],
   "source": [
    "IMG_SIZE=(64,64)\n",
    "BATCH_SIZE=12\n",
    "\n",
    "def load_and_preprocess(path,label):\n",
    "    img = tf.io.read_file(path)\n",
    "    img = tf.image.decode_jpeg(img, channels=3)\n",
    "    img = tf.image.resize(img,IMG_SIZE)\n",
    "    img = img / 255.0\n",
    "    return img, label\n",
    "\n",
    "train_ds = (\n",
    "    tf.data.Dataset.from_tensor_slices((train_paths,train_labels))\n",
    "      .shuffle(len(train_paths))\n",
    "      .map(load_and_preprocess)\n",
    "      .batch(BATCH_SIZE)\n",
    ")\n",
    "\n",
    "val_ds = (\n",
    "    tf.data.Dataset.from_tensor_slices((val_paths,val_labels))\n",
    "      .map(load_and_preprocess)\n",
    "      .batch(BATCH_SIZE)\n",
    ")\n",
    "\n"
   ]
  },
  {
   "cell_type": "code",
   "execution_count": 91,
   "metadata": {},
   "outputs": [
    {
     "name": "stdout",
     "output_type": "stream",
     "text": [
      "Model: \"sequential_5\"\n",
      "_________________________________________________________________\n",
      " Layer (type)                Output Shape              Param #   \n",
      "=================================================================\n",
      " conv2d_13 (Conv2D)          (None, 62, 62, 32)        896       \n",
      "                                                                 \n",
      " max_pooling2d_13 (MaxPooli  (None, 31, 31, 32)        0         \n",
      " ng2D)                                                           \n",
      "                                                                 \n",
      " conv2d_14 (Conv2D)          (None, 29, 29, 64)        18496     \n",
      "                                                                 \n",
      " max_pooling2d_14 (MaxPooli  (None, 14, 14, 64)        0         \n",
      " ng2D)                                                           \n",
      "                                                                 \n",
      " conv2d_15 (Conv2D)          (None, 12, 12, 128)       73856     \n",
      "                                                                 \n",
      " max_pooling2d_15 (MaxPooli  (None, 6, 6, 128)         0         \n",
      " ng2D)                                                           \n",
      "                                                                 \n",
      " flatten_5 (Flatten)         (None, 4608)              0         \n",
      "                                                                 \n",
      " dense_10 (Dense)            (None, 256)               1179904   \n",
      "                                                                 \n",
      " dropout_5 (Dropout)         (None, 256)               0         \n",
      "                                                                 \n",
      " dense_11 (Dense)            (None, 3)                 771       \n",
      "                                                                 \n",
      "=================================================================\n",
      "Total params: 1273923 (4.86 MB)\n",
      "Trainable params: 1273923 (4.86 MB)\n",
      "Non-trainable params: 0 (0.00 Byte)\n",
      "_________________________________________________________________\n"
     ]
    }
   ],
   "source": [
    "num_classes = len(class_map)\n",
    "\n",
    "model = models.Sequential([\n",
    "    layers.Input((64, 64, 3)),\n",
    "    \n",
    "    layers.Conv2D(32, 3, activation=\"relu\"),\n",
    "    layers.MaxPooling2D(),\n",
    "    \n",
    "    layers.Conv2D(64, 3, activation=\"relu\"),\n",
    "    layers.MaxPooling2D(),\n",
    "    \n",
    "    layers.Conv2D(128, 3, activation=\"relu\"),\n",
    "    layers.MaxPooling2D(),\n",
    "    \n",
    "    layers.Flatten(),\n",
    "    layers.Dense(256, activation=\"relu\"),\n",
    "    layers.Dropout(0.5),\n",
    "    layers.Dense(num_classes, activation=\"softmax\"),\n",
    "])\n",
    "\n",
    "model.compile(\n",
    "    optimizer=\"adam\",\n",
    "    loss=\"sparse_categorical_crossentropy\",\n",
    "    metrics=[\"accuracy\"]\n",
    ")\n",
    "\n",
    "model.summary()\n"
   ]
  },
  {
   "cell_type": "code",
   "execution_count": 92,
   "metadata": {},
   "outputs": [],
   "source": [
    "callbacks = [\n",
    "    ModelCheckpoint(\n",
    "        \"age_classifier_imfdb.h5\",\n",
    "        save_best_only=True,\n",
    "        monitor=\"val_accuracy\",\n",
    "        verbose=1\n",
    "    ),\n",
    "    EarlyStopping(\n",
    "        patience=5,\n",
    "        restore_best_weights=True,\n",
    "        monitor=\"val_loss\",\n",
    "        verbose=1\n",
    "    ),\n",
    "]\n"
   ]
  },
  {
   "cell_type": "code",
   "execution_count": 93,
   "metadata": {},
   "outputs": [
    {
     "name": "stdout",
     "output_type": "stream",
     "text": [
      "Epoch 1/50\n",
      "443/443 [==============================] - ETA: 0s - loss: 0.8940 - accuracy: 0.5880\n",
      "Epoch 1: val_accuracy improved from -inf to 0.66867, saving model to age_classifier_imfdb.h5\n",
      "443/443 [==============================] - 43s 93ms/step - loss: 0.8940 - accuracy: 0.5880 - val_loss: 0.7817 - val_accuracy: 0.6687\n",
      "Epoch 2/50\n"
     ]
    },
    {
     "name": "stderr",
     "output_type": "stream",
     "text": [
      "c:\\miniconda\\envs\\myenv\\lib\\site-packages\\keras\\src\\engine\\training.py:3000: UserWarning: You are saving your model as an HDF5 file via `model.save()`. This file format is considered legacy. We recommend using instead the native Keras format, e.g. `model.save('my_model.keras')`.\n",
      "  saving_api.save_model(\n"
     ]
    },
    {
     "name": "stdout",
     "output_type": "stream",
     "text": [
      "442/443 [============================>.] - ETA: 0s - loss: 0.7475 - accuracy: 0.6744\n",
      "Epoch 2: val_accuracy improved from 0.66867 to 0.67922, saving model to age_classifier_imfdb.h5\n",
      "443/443 [==============================] - 34s 77ms/step - loss: 0.7474 - accuracy: 0.6745 - val_loss: 0.7204 - val_accuracy: 0.6792\n",
      "Epoch 3/50\n",
      "442/443 [============================>.] - ETA: 0s - loss: 0.6986 - accuracy: 0.6966\n",
      "Epoch 3: val_accuracy improved from 0.67922 to 0.69352, saving model to age_classifier_imfdb.h5\n",
      "443/443 [==============================] - 27s 60ms/step - loss: 0.6981 - accuracy: 0.6969 - val_loss: 0.7168 - val_accuracy: 0.6935\n",
      "Epoch 4/50\n",
      "442/443 [============================>.] - ETA: 0s - loss: 0.6695 - accuracy: 0.7136\n",
      "Epoch 4: val_accuracy improved from 0.69352 to 0.72063, saving model to age_classifier_imfdb.h5\n",
      "443/443 [==============================] - 25s 57ms/step - loss: 0.6696 - accuracy: 0.7136 - val_loss: 0.6818 - val_accuracy: 0.7206\n",
      "Epoch 5/50\n",
      "443/443 [==============================] - ETA: 0s - loss: 0.6353 - accuracy: 0.7293\n",
      "Epoch 5: val_accuracy improved from 0.72063 to 0.72967, saving model to age_classifier_imfdb.h5\n",
      "443/443 [==============================] - 25s 56ms/step - loss: 0.6353 - accuracy: 0.7293 - val_loss: 0.6484 - val_accuracy: 0.7297\n",
      "Epoch 6/50\n",
      "443/443 [==============================] - ETA: 0s - loss: 0.5806 - accuracy: 0.7498\n",
      "Epoch 6: val_accuracy improved from 0.72967 to 0.74548, saving model to age_classifier_imfdb.h5\n",
      "443/443 [==============================] - 27s 61ms/step - loss: 0.5806 - accuracy: 0.7498 - val_loss: 0.6175 - val_accuracy: 0.7455\n",
      "Epoch 7/50\n",
      "443/443 [==============================] - ETA: 0s - loss: 0.5397 - accuracy: 0.7653\n",
      "Epoch 7: val_accuracy did not improve from 0.74548\n",
      "443/443 [==============================] - 23s 53ms/step - loss: 0.5397 - accuracy: 0.7653 - val_loss: 0.6342 - val_accuracy: 0.7372\n",
      "Epoch 8/50\n",
      "442/443 [============================>.] - ETA: 0s - loss: 0.5032 - accuracy: 0.7913\n",
      "Epoch 8: val_accuracy did not improve from 0.74548\n",
      "443/443 [==============================] - 23s 52ms/step - loss: 0.5034 - accuracy: 0.7913 - val_loss: 0.6307 - val_accuracy: 0.7440\n",
      "Epoch 9/50\n",
      "443/443 [==============================] - ETA: 0s - loss: 0.4536 - accuracy: 0.8058\n",
      "Epoch 9: val_accuracy improved from 0.74548 to 0.75301, saving model to age_classifier_imfdb.h5\n",
      "443/443 [==============================] - 22s 50ms/step - loss: 0.4536 - accuracy: 0.8058 - val_loss: 0.6202 - val_accuracy: 0.7530\n",
      "Epoch 10/50\n",
      "443/443 [==============================] - ETA: 0s - loss: 0.4104 - accuracy: 0.8248\n",
      "Epoch 10: val_accuracy did not improve from 0.75301\n",
      "443/443 [==============================] - 22s 50ms/step - loss: 0.4104 - accuracy: 0.8248 - val_loss: 0.6342 - val_accuracy: 0.7477\n",
      "Epoch 11/50\n",
      "442/443 [============================>.] - ETA: 0s - loss: 0.3654 - accuracy: 0.8512\n",
      "Epoch 11: val_accuracy improved from 0.75301 to 0.76431, saving model to age_classifier_imfdb.h5\n",
      "Restoring model weights from the end of the best epoch: 6.\n",
      "443/443 [==============================] - 22s 50ms/step - loss: 0.3652 - accuracy: 0.8514 - val_loss: 0.6466 - val_accuracy: 0.7643\n",
      "Epoch 11: early stopping\n"
     ]
    }
   ],
   "source": [
    "history = model.fit(train_ds, validation_data=val_ds, epochs=50, callbacks=callbacks)\n",
    "\n"
   ]
  },
  {
   "cell_type": "code",
   "execution_count": 99,
   "metadata": {},
   "outputs": [
    {
     "data": {
      "image/png": "[encoded data removed]",
      "text/plain": [
       "<Figure size 1200x400 with 1 Axes>"
      ]
     },
     "metadata": {},
     "output_type": "display_data"
    }
   ],
   "source": [
    "plt.figure(figsize=(12,4))\n",
    "\n",
    "# Accuracy\n",
    "plt.plot(history.history[\"accuracy\"], label=\"train\")\n",
    "plt.plot(history.history[\"val_accuracy\"], label=\"val\")\n",
    "plt.title(\"Accuracy\")\n",
    "plt.xlabel(\"Epoch\")\n",
    "plt.ylabel(\"Accuracy\")\n",
    "plt.legend()\n",
    "\n",
    "plt.show()\n"
   ]
  },
  {
   "cell_type": "code",
   "execution_count": 98,
   "metadata": {},
   "outputs": [
    {
     "name": "stderr",
     "output_type": "stream",
     "text": [
      "c:\\miniconda\\envs\\myenv\\lib\\site-packages\\keras\\src\\engine\\training.py:3000: UserWarning: You are saving your model as an HDF5 file via `model.save()`. This file format is considered legacy. We recommend using instead the native Keras format, e.g. `model.save('my_model.keras')`.\n",
      "  saving_api.save_model(\n"
     ]
    }
   ],
   "source": [
    "model_save_path = r\"D:\\DESKTOP\\AI proj\\project\\models\\age_classifier_imfdb.h5\"\n",
    "model.save(model_save_path)\n",
    "\n"
   ]
  }
 ],
 "metadata": {
  "kernelspec": {
   "display_name": "myenv",
   "language": "python",
   "name": "python3"
  },
  "language_info": {
   "codemirror_mode": {
    "name": "ipython",
    "version": 3
   },
   "file_extension": ".py",
   "mimetype": "text/x-python",
   "name": "python",
   "nbconvert_exporter": "python",
   "pygments_lexer": "ipython3",
   "version": "3.8.20"
  }
 },
 "nbformat": 4,
 "nbformat_minor": 2
}
