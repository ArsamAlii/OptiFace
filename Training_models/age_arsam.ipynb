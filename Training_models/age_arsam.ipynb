{
 "cells": [
  {
   "cell_type": "code",
   "execution_count": 1,
   "metadata": {},
   "outputs": [],
   "source": [
    "import os\n",
    "import pandas as pd\n",
    "import numpy as np\n",
    "import tensorflow as tf\n",
    "\n",
    "from sklearn.model_selection import train_test_split\n",
    "from tensorflow.keras import layers, models\n",
    "from tensorflow.keras.callbacks import ModelCheckpoint, EarlyStopping\n",
    "import matplotlib.pyplot as plt\n"
   ]
  },
  {
   "cell_type": "code",
   "execution_count": 2,
   "metadata": {},
   "outputs": [],
   "source": [
    "DATA_DIR =r\"D:\\DESKTOP\\AI proj\\datasetage\\Test\\Test\"\n",
    "ANNOT_FILE =r\"D:\\DESKTOP\\AI proj\\datasetage\\Train\\Train\""
   ]
  },
  {
   "cell_type": "code",
   "execution_count": 3,
   "metadata": {},
   "outputs": [
    {
     "name": "stdout",
     "output_type": "stream",
     "text": [
      "    Class         ID\n",
      "0  MIDDLE  25321.jpg\n",
      "1   YOUNG    989.jpg\n",
      "2  MIDDLE  19277.jpg\n",
      "3  MIDDLE  13093.jpg\n",
      "4  MIDDLE   5367.jpg\n",
      "count       6636\n",
      "unique         3\n",
      "top       MIDDLE\n",
      "freq        3834\n",
      "Name: Class, dtype: object\n"
     ]
    }
   ],
   "source": [
    "df=pd.read_csv(r\"D:\\DESKTOP\\AI proj\\datasetage\\sub.csv\")\n",
    "print(df.head())\n",
    "print(df[\"Class\"].describe())\n"
   ]
  },
  {
   "cell_type": "code",
   "execution_count": 4,
   "metadata": {},
   "outputs": [
    {
     "name": "stdout",
     "output_type": "stream",
     "text": [
      "MIDDLE    3834\n",
      "YOUNG     2138\n",
      "OLD        664\n",
      "Name: Class, dtype: int64 \n",
      "\n",
      "1    3834\n",
      "0    2138\n",
      "2     664\n",
      "Name: label, dtype: int64\n"
     ]
    }
   ],
   "source": [
    "df = pd.read_csv(r\"D:\\DESKTOP\\AI proj\\datasetage\\sub.csv\")\n",
    "df.head(5)\n",
    "\n",
    "# Define your label mapping\n",
    "class_map = {\"YOUNG\": 0, \"MIDDLE\": 1, \"OLD\": 2}\n",
    "\n",
    "# Create a new numeric column\n",
    "df[\"label\"] = df[\"Class\"].map(class_map)\n",
    "\n",
    "# Quick sanity check\n",
    "print(df[\"Class\"].value_counts(), \"\\n\")\n",
    "print(df[\"label\"].value_counts())\n"
   ]
  },
  {
   "cell_type": "code",
   "execution_count": 5,
   "metadata": {},
   "outputs": [],
   "source": [
    "# Build absolute paths to each image->\n",
    "df[\"file_path\"]=df[\"ID\"].apply(lambda fn:os.path.join(DATA_DIR,fn))\n",
    "\n",
    "#print(df[\"file_path\"])\n",
    "#print(df.columns)\n",
    "# Extract numpy arrays\n",
    "file_paths=df[\"file_path\"].values\n",
    "labels=df[\"label\"].values\n"
   ]
  },
  {
   "cell_type": "code",
   "execution_count": 6,
   "metadata": {},
   "outputs": [],
   "source": [
    "train_paths, val_paths, train_labels, val_labels = train_test_split(file_paths,labels,test_size=0.20,stratify=labels,random_state=0)"
   ]
  },
  {
   "cell_type": "code",
   "execution_count": 7,
   "metadata": {},
   "outputs": [],
   "source": [
    "IMG_SIZE=(64,64)\n",
    "BATCH_SIZE=12\n",
    "\n",
    "def load_and_preprocess(path,label):\n",
    "    img = tf.io.read_file(path)\n",
    "    img = tf.image.decode_jpeg(img, channels=3)\n",
    "    img = tf.image.resize(img,IMG_SIZE)\n",
    "    img = img / 255.0\n",
    "    return img, label\n",
    "\n",
    "train_ds = (\n",
    "    tf.data.Dataset.from_tensor_slices((train_paths, train_labels))\n",
    "      .shuffle(len(train_paths))\n",
    "      .map(load_and_preprocess, num_parallel_calls=tf.data.AUTOTUNE)\n",
    "      .batch(BATCH_SIZE)\n",
    "      .prefetch(tf.data.AUTOTUNE)\n",
    ")\n",
    "\n",
    "val_ds = (\n",
    "    tf.data.Dataset.from_tensor_slices((val_paths, val_labels))\n",
    "      .map(load_and_preprocess, num_parallel_calls=tf.data.AUTOTUNE)\n",
    "      .batch(BATCH_SIZE)\n",
    "      .prefetch(tf.data.AUTOTUNE)\n",
    ")\n",
    "\n"
   ]
  },
  {
   "cell_type": "code",
   "execution_count": 8,
   "metadata": {},
   "outputs": [
    {
     "name": "stdout",
     "output_type": "stream",
     "text": [
      "Model: \"sequential\"\n",
      "_________________________________________________________________\n",
      " Layer (type)                Output Shape              Param #   \n",
      "=================================================================\n",
      " conv2d (Conv2D)             (None, 62, 62, 32)        896       \n",
      "                                                                 \n",
      " max_pooling2d (MaxPooling2  (None, 31, 31, 32)        0         \n",
      " D)                                                              \n",
      "                                                                 \n",
      " conv2d_1 (Conv2D)           (None, 29, 29, 64)        18496     \n",
      "                                                                 \n",
      " max_pooling2d_1 (MaxPoolin  (None, 14, 14, 64)        0         \n",
      " g2D)                                                            \n",
      "                                                                 \n",
      " conv2d_2 (Conv2D)           (None, 12, 12, 128)       73856     \n",
      "                                                                 \n",
      " max_pooling2d_2 (MaxPoolin  (None, 6, 6, 128)         0         \n",
      " g2D)                                                            \n",
      "                                                                 \n",
      " flatten (Flatten)           (None, 4608)              0         \n",
      "                                                                 \n",
      " dense (Dense)               (None, 256)               1179904   \n",
      "                                                                 \n",
      " dropout (Dropout)           (None, 256)               0         \n",
      "                                                                 \n",
      " dense_1 (Dense)             (None, 3)                 771       \n",
      "                                                                 \n",
      "=================================================================\n",
      "Total params: 1273923 (4.86 MB)\n",
      "Trainable params: 1273923 (4.86 MB)\n",
      "Non-trainable params: 0 (0.00 Byte)\n",
      "_________________________________________________________________\n"
     ]
    }
   ],
   "source": [
    "num_classes = len(class_map)\n",
    "\n",
    "model = models.Sequential([\n",
    "    layers.Input((*IMG_SIZE,3)),\n",
    "    \n",
    "    layers.Conv2D(32, 3, activation=\"relu\"),\n",
    "    layers.MaxPooling2D(),\n",
    "    \n",
    "    layers.Conv2D(64, 3, activation=\"relu\"),\n",
    "    layers.MaxPooling2D(),\n",
    "    \n",
    "    layers.Conv2D(128, 3, activation=\"relu\"),\n",
    "    layers.MaxPooling2D(),\n",
    "    \n",
    "    layers.Flatten(),\n",
    "    layers.Dense(256, activation=\"relu\"),\n",
    "    layers.Dropout(0.5),\n",
    "    layers.Dense(num_classes, activation=\"softmax\"),\n",
    "])\n",
    "\n",
    "model.compile(\n",
    "    optimizer=\"adam\",\n",
    "    loss=\"sparse_categorical_crossentropy\",\n",
    "    metrics=[\"accuracy\"]\n",
    ")\n",
    "\n",
    "model.summary()\n"
   ]
  },
  {
   "cell_type": "code",
   "execution_count": 9,
   "metadata": {},
   "outputs": [],
   "source": [
    "callbacks = [\n",
    "    ModelCheckpoint(\n",
    "        \"age_classifier_imfdb.h5\",\n",
    "        save_best_only=True,\n",
    "        monitor=\"val_accuracy\",\n",
    "        verbose=1\n",
    "    ),\n",
    "    EarlyStopping(\n",
    "        patience=5,\n",
    "        restore_best_weights=True,\n",
    "        monitor=\"val_loss\",\n",
    "        verbose=1\n",
    "    ),\n",
    "]\n"
   ]
  },
  {
   "cell_type": "code",
   "execution_count": 10,
   "metadata": {},
   "outputs": [
    {
     "name": "stdout",
     "output_type": "stream",
     "text": [
      "Epoch 1/18\n",
      "443/443 [==============================] - ETA: 0s - loss: 0.8816 - accuracy: 0.6019\n",
      "Epoch 1: val_accuracy improved from -inf to 0.65964, saving model to age_classifier_imfdb.h5\n",
      "443/443 [==============================] - 33s 72ms/step - loss: 0.8816 - accuracy: 0.6019 - val_loss: 0.7780 - val_accuracy: 0.6596\n",
      "Epoch 2/18\n"
     ]
    },
    {
     "name": "stderr",
     "output_type": "stream",
     "text": [
      "c:\\miniconda\\envs\\myenv\\lib\\site-packages\\keras\\src\\engine\\training.py:3000: UserWarning: You are saving your model as an HDF5 file via `model.save()`. This file format is considered legacy. We recommend using instead the native Keras format, e.g. `model.save('my_model.keras')`.\n",
      "  saving_api.save_model(\n"
     ]
    },
    {
     "name": "stdout",
     "output_type": "stream",
     "text": [
      "442/443 [============================>.] - ETA: 0s - loss: 0.7517 - accuracy: 0.6755\n",
      "Epoch 2: val_accuracy improved from 0.65964 to 0.67846, saving model to age_classifier_imfdb.h5\n",
      "443/443 [==============================] - 41s 91ms/step - loss: 0.7515 - accuracy: 0.6756 - val_loss: 0.7321 - val_accuracy: 0.6785\n",
      "Epoch 3/18\n",
      "443/443 [==============================] - ETA: 0s - loss: 0.7010 - accuracy: 0.6974\n",
      "Epoch 3: val_accuracy improved from 0.67846 to 0.70858, saving model to age_classifier_imfdb.h5\n",
      "443/443 [==============================] - 33s 74ms/step - loss: 0.7010 - accuracy: 0.6974 - val_loss: 0.6714 - val_accuracy: 0.7086\n",
      "Epoch 4/18\n",
      "442/443 [============================>.] - ETA: 0s - loss: 0.6559 - accuracy: 0.7191\n",
      "Epoch 4: val_accuracy improved from 0.70858 to 0.72139, saving model to age_classifier_imfdb.h5\n",
      "443/443 [==============================] - 38s 85ms/step - loss: 0.6559 - accuracy: 0.7191 - val_loss: 0.6606 - val_accuracy: 0.7214\n",
      "Epoch 5/18\n",
      "443/443 [==============================] - ETA: 0s - loss: 0.6164 - accuracy: 0.7355\n",
      "Epoch 5: val_accuracy improved from 0.72139 to 0.72289, saving model to age_classifier_imfdb.h5\n",
      "443/443 [==============================] - 34s 77ms/step - loss: 0.6164 - accuracy: 0.7355 - val_loss: 0.6406 - val_accuracy: 0.7229\n",
      "Epoch 6/18\n",
      "442/443 [============================>.] - ETA: 0s - loss: 0.5873 - accuracy: 0.7491\n",
      "Epoch 6: val_accuracy improved from 0.72289 to 0.73494, saving model to age_classifier_imfdb.h5\n",
      "443/443 [==============================] - 40s 90ms/step - loss: 0.5878 - accuracy: 0.7487 - val_loss: 0.6499 - val_accuracy: 0.7349\n",
      "Epoch 7/18\n",
      "442/443 [============================>.] - ETA: 0s - loss: 0.5391 - accuracy: 0.7679\n",
      "Epoch 7: val_accuracy improved from 0.73494 to 0.74096, saving model to age_classifier_imfdb.h5\n",
      "443/443 [==============================] - 24s 55ms/step - loss: 0.5388 - accuracy: 0.7681 - val_loss: 0.6160 - val_accuracy: 0.7410\n",
      "Epoch 8/18\n",
      "442/443 [============================>.] - ETA: 0s - loss: 0.5077 - accuracy: 0.7813\n",
      "Epoch 8: val_accuracy did not improve from 0.74096\n",
      "443/443 [==============================] - 27s 62ms/step - loss: 0.5077 - accuracy: 0.7813 - val_loss: 0.6569 - val_accuracy: 0.7191\n",
      "Epoch 9/18\n",
      "443/443 [==============================] - ETA: 0s - loss: 0.4677 - accuracy: 0.8044\n",
      "Epoch 9: val_accuracy improved from 0.74096 to 0.75452, saving model to age_classifier_imfdb.h5\n",
      "443/443 [==============================] - 60s 136ms/step - loss: 0.4677 - accuracy: 0.8044 - val_loss: 0.6495 - val_accuracy: 0.7545\n",
      "Epoch 10/18\n",
      "442/443 [============================>.] - ETA: 0s - loss: 0.4254 - accuracy: 0.8192\n",
      "Epoch 10: val_accuracy did not improve from 0.75452\n",
      "443/443 [==============================] - 34s 77ms/step - loss: 0.4259 - accuracy: 0.8190 - val_loss: 0.6558 - val_accuracy: 0.7530\n",
      "Epoch 11/18\n",
      "442/443 [============================>.] - ETA: 0s - loss: 0.3906 - accuracy: 0.8371\n",
      "Epoch 11: val_accuracy improved from 0.75452 to 0.76280, saving model to age_classifier_imfdb.h5\n",
      "443/443 [==============================] - 30s 68ms/step - loss: 0.3904 - accuracy: 0.8372 - val_loss: 0.6684 - val_accuracy: 0.7628\n",
      "Epoch 12/18\n",
      "442/443 [============================>.] - ETA: 0s - loss: 0.3442 - accuracy: 0.8609\n",
      "Epoch 12: val_accuracy did not improve from 0.76280\n",
      "Restoring model weights from the end of the best epoch: 7.\n",
      "443/443 [==============================] - 37s 84ms/step - loss: 0.3442 - accuracy: 0.8610 - val_loss: 0.6628 - val_accuracy: 0.7508\n",
      "Epoch 12: early stopping\n"
     ]
    }
   ],
   "source": [
    "history = model.fit(train_ds, validation_data=val_ds, epochs=18, callbacks=callbacks)\n",
    "\n"
   ]
  },
  {
   "cell_type": "code",
   "execution_count": 11,
   "metadata": {},
   "outputs": [
    {
     "data": {
      "image/png": "[encoded data removed]",
      "text/plain": [
       "<Figure size 1200x400 with 2 Axes>"
      ]
     },
     "metadata": {},
     "output_type": "display_data"
    }
   ],
   "source": [
    "plt.figure(figsize=(12,4))\n",
    "\n",
    "# Accuracy\n",
    "plt.subplot(1,2,1)\n",
    "plt.plot(history.history[\"accuracy\"], label=\"train\")\n",
    "plt.plot(history.history[\"val_accuracy\"], label=\"val\")\n",
    "plt.title(\"Accuracy\")\n",
    "plt.xlabel(\"Epoch\")\n",
    "plt.ylabel(\"Accuracy\")\n",
    "plt.legend()\n",
    "\n",
    "# Loss\n",
    "plt.subplot(1,2,2)\n",
    "plt.plot(history.history[\"loss\"], label=\"train\")\n",
    "plt.plot(history.history[\"val_loss\"], label=\"val\")\n",
    "plt.title(\"Loss\")\n",
    "plt.xlabel(\"Epoch\")\n",
    "plt.ylabel(\"Loss\")\n",
    "plt.legend()\n",
    "\n",
    "plt.show()\n"
   ]
  },
  {
   "cell_type": "code",
   "execution_count": 15,
   "metadata": {},
   "outputs": [
    {
     "name": "stdout",
     "output_type": "stream",
     "text": [
      "INFO:tensorflow:Assets written to: D:\\DESKTOP\\AI proj\\finalage_savedmodel5\\assets\n"
     ]
    },
    {
     "name": "stderr",
     "output_type": "stream",
     "text": [
      "INFO:tensorflow:Assets written to: D:\\DESKTOP\\AI proj\\finalage_savedmodel5\\assets\n"
     ]
    }
   ],
   "source": [
    "model_save_path = r'D:\\DESKTOP\\AI proj\\finalage_savedmodel5'\n",
    "model.save(model_save_path)\n",
    "\n"
   ]
  }
 ],
 "metadata": {
  "kernelspec": {
   "display_name": "myenv",
   "language": "python",
   "name": "python3"
  },
  "language_info": {
   "codemirror_mode": {
    "name": "ipython",
    "version": 3
   },
   "file_extension": ".py",
   "mimetype": "text/x-python",
   "name": "python",
   "nbconvert_exporter": "python",
   "pygments_lexer": "ipython3",
   "version": "3.8.20"
  }
 },
 "nbformat": 4,
 "nbformat_minor": 2
}
